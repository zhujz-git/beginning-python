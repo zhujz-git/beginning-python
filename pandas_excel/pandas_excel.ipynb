{
 "cells": [
  {
   "cell_type": "code",
   "execution_count": null,
   "metadata": {},
   "outputs": [],
   "source": [
    "import pandas as pd\n",
    "df_xl = pd.read_excel('./xl/娄桥-房屋介绍2022.8.15.xls')\n",
    "#index_col='时间', parse_dates=['时间'])\n",
    "#修改中文日期\n",
    "df_xl.loc[:, '时间'] = pd.to_datetime(df_xl.loc[:, '时间'].str.replace('[年月日]',\n",
    "                                                    '-').str.rstrip('-'))\n",
    "\n",
    "df_xl = df_xl.set_index('时间')\n",
    "df_xl.loc['2022-08':'2022-09', ('商品访客数', '支付买家数')].plot()\n"
   ]
  },
  {
   "cell_type": "code",
   "execution_count": 5,
   "metadata": {},
   "outputs": [
    {
     "name": "stderr",
     "output_type": "stream",
     "text": [
      "d:\\Python\\Python37\\lib\\site-packages\\openpyxl\\styles\\stylesheet.py:226: UserWarning: Workbook contains no default style, apply openpyxl's default\n",
      "  warn(\"Workbook contains no default style, apply openpyxl's default\")\n"
     ]
    },
    {
     "name": "stdout",
     "output_type": "stream",
     "text": [
      "<class 'pandas.core.frame.DataFrame'>\n",
      "Int64Index: 74 entries, 0 to 9884\n",
      "Data columns (total 3 columns):\n",
      " #   Column      Non-Null Count  Dtype \n",
      "---  ------      --------------  ----- \n",
      " 0   组合商品编码      74 non-null     object\n",
      " 1   组合商品名称      64 non-null     object\n",
      " 2   Unnamed: 2  74 non-null     object\n",
      "dtypes: object(3)\n",
      "memory usage: 2.3+ KB\n"
     ]
    },
    {
     "data": {
      "text/html": [
       "<div>\n",
       "<style scoped>\n",
       "    .dataframe tbody tr th:only-of-type {\n",
       "        vertical-align: middle;\n",
       "    }\n",
       "\n",
       "    .dataframe tbody tr th {\n",
       "        vertical-align: top;\n",
       "    }\n",
       "\n",
       "    .dataframe thead th {\n",
       "        text-align: right;\n",
       "    }\n",
       "</style>\n",
       "<table border=\"1\" class=\"dataframe\">\n",
       "  <thead>\n",
       "    <tr style=\"text-align: right;\">\n",
       "      <th></th>\n",
       "      <th>组合商品编码</th>\n",
       "      <th>组合商品名称</th>\n",
       "      <th>Unnamed: 2</th>\n",
       "    </tr>\n",
       "  </thead>\n",
       "  <tbody>\n",
       "    <tr>\n",
       "      <th>0</th>\n",
       "      <td>0001</td>\n",
       "      <td>NaN</td>\n",
       "      <td>未知</td>\n",
       "    </tr>\n",
       "    <tr>\n",
       "      <th>160</th>\n",
       "      <td>ZH2017072511</td>\n",
       "      <td>天使翅膀橘粉色两件80cm</td>\n",
       "      <td>2</td>\n",
       "    </tr>\n",
       "    <tr>\n",
       "      <th>261</th>\n",
       "      <td>ZH2017092019</td>\n",
       "      <td>长袖蕾丝款D长爬+粉假两件+小翻领90四</td>\n",
       "      <td>2</td>\n",
       "    </tr>\n",
       "    <tr>\n",
       "      <th>276</th>\n",
       "      <td>ZH2017092034</td>\n",
       "      <td>长袖蕾丝款G长爬+绿假两件+小飞袖90四</td>\n",
       "      <td>2</td>\n",
       "    </tr>\n",
       "    <tr>\n",
       "      <th>278</th>\n",
       "      <td>ZH2017092601</td>\n",
       "      <td>针织连衣裙灰色 0-6M 73cm</td>\n",
       "      <td>2</td>\n",
       "    </tr>\n",
       "    <tr>\n",
       "      <th>...</th>\n",
       "      <td>...</td>\n",
       "      <td>...</td>\n",
       "      <td>...</td>\n",
       "    </tr>\n",
       "    <tr>\n",
       "      <th>9880</th>\n",
       "      <td>ZHTM20210703A51</td>\n",
       "      <td>天猫-绿野仙踪行李箱K米碎花长哈+绿绣花长包屁+坑条长包屁 发带袜套相框公仔59</td>\n",
       "      <td>2</td>\n",
       "    </tr>\n",
       "    <tr>\n",
       "      <th>9881</th>\n",
       "      <td>ZHTM20210703A52</td>\n",
       "      <td>天猫-绿野仙踪行李箱K米碎花长哈+绿绣花长包屁+坑条长包屁 发带袜套相框公仔66</td>\n",
       "      <td>2</td>\n",
       "    </tr>\n",
       "    <tr>\n",
       "      <th>9882</th>\n",
       "      <td>ZHTM20210703A53</td>\n",
       "      <td>天猫-绿野仙踪行李箱K米碎花长哈+绿绣花长包屁+坑条长包屁 发带袜套相框公仔73</td>\n",
       "      <td>2</td>\n",
       "    </tr>\n",
       "    <tr>\n",
       "      <th>9883</th>\n",
       "      <td>ZHTM20210703A54</td>\n",
       "      <td>天猫-绿野仙踪行李箱K米碎花长哈+绿绣花长包屁+坑条长包屁 发带袜套相框公仔80</td>\n",
       "      <td>2</td>\n",
       "    </tr>\n",
       "    <tr>\n",
       "      <th>9884</th>\n",
       "      <td>ZHTM20210703A55</td>\n",
       "      <td>天猫-绿野仙踪行李箱K米碎花长哈+绿绣花长包屁+坑条长包屁 发带袜套相框公仔90</td>\n",
       "      <td>2</td>\n",
       "    </tr>\n",
       "  </tbody>\n",
       "</table>\n",
       "<p>74 rows × 3 columns</p>\n",
       "</div>"
      ],
      "text/plain": [
       "               组合商品编码                                    组合商品名称 Unnamed: 2\n",
       "0                0001                                       NaN         未知\n",
       "160      ZH2017072511                             天使翅膀橘粉色两件80cm          2\n",
       "261      ZH2017092019                      长袖蕾丝款D长爬+粉假两件+小翻领90四          2\n",
       "276      ZH2017092034                      长袖蕾丝款G长爬+绿假两件+小飞袖90四          2\n",
       "278      ZH2017092601                         针织连衣裙灰色 0-6M 73cm          2\n",
       "...               ...                                       ...        ...\n",
       "9880  ZHTM20210703A51  天猫-绿野仙踪行李箱K米碎花长哈+绿绣花长包屁+坑条长包屁 发带袜套相框公仔59          2\n",
       "9881  ZHTM20210703A52  天猫-绿野仙踪行李箱K米碎花长哈+绿绣花长包屁+坑条长包屁 发带袜套相框公仔66          2\n",
       "9882  ZHTM20210703A53  天猫-绿野仙踪行李箱K米碎花长哈+绿绣花长包屁+坑条长包屁 发带袜套相框公仔73          2\n",
       "9883  ZHTM20210703A54  天猫-绿野仙踪行李箱K米碎花长哈+绿绣花长包屁+坑条长包屁 发带袜套相框公仔80          2\n",
       "9884  ZHTM20210703A55  天猫-绿野仙踪行李箱K米碎花长哈+绿绣花长包屁+坑条长包屁 发带袜套相框公仔90          2\n",
       "\n",
       "[74 rows x 3 columns]"
      ]
     },
     "execution_count": 5,
     "metadata": {},
     "output_type": "execute_result"
    }
   ],
   "source": [
    "import pandas as pd\n",
    "import xlwings as xw\n",
    "\n",
    "filedir = '../pydata/august/'\n",
    "df_comb = pd.read_excel(filedir + 'combination_info1.xlsx',\n",
    "                        usecols=['组合商品编码', '组合商品名称'])\n",
    "df_comb.dropna(inplace=True)\n",
    "df_comb.set_index('组合商品编码', inplace=True)\n",
    "\n",
    "df_dest = pd.read_excel(filedir + 'combination_weight.xlsx', index_col=0)\n",
    "# append 2次 可以达到df_update = df_comb - df_dest的差集\n",
    "df_update = df_comb.append(df_dest).append(\n",
    "    df_dest).reset_index().drop_duplicates(subset=['组合商品编码'], keep=False)\n",
    "df_update.info()\n",
    "df_update\n"
   ]
  },
  {
   "cell_type": "markdown",
   "metadata": {},
   "source": []
  },
  {
   "cell_type": "markdown",
   "metadata": {},
   "source": []
  }
 ],
 "metadata": {
  "kernelspec": {
   "display_name": "Python 3.7.9 64-bit",
   "language": "python",
   "name": "python3"
  },
  "language_info": {
   "codemirror_mode": {
    "name": "ipython",
    "version": 3
   },
   "file_extension": ".py",
   "mimetype": "text/x-python",
   "name": "python",
   "nbconvert_exporter": "python",
   "pygments_lexer": "ipython3",
   "version": "3.7.9"
  },
  "vscode": {
   "interpreter": {
    "hash": "eb4cdb330c5ea7232880705c0e79ad22649a7c708042624124f8ff95c4dc218f"
   }
  }
 },
 "nbformat": 4,
 "nbformat_minor": 2
}
