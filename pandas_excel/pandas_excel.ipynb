{
 "cells": [
  {
   "cell_type": "code",
   "execution_count": null,
   "metadata": {},
   "outputs": [],
   "source": [
    "import pandas as pd\n",
    "df_xl = pd.read_excel('./xl/娄桥-房屋介绍2022.8.15.xls')\n",
    "#index_col='时间', parse_dates=['时间'])\n",
    "#修改中文日期\n",
    "df_xl.loc[:, '时间'] = pd.to_datetime(df_xl.loc[:, '时间'].str.replace('[年月日]',\n",
    "                                                    '-').str.rstrip('-'))\n",
    "\n",
    "df_xl = df_xl.set_index('时间')\n",
    "df_xl.loc['2022-08':'2022-09', ('商品访客数', '支付买家数')].plot()\n"
   ]
  },
  {
   "cell_type": "code",
   "execution_count": null,
   "metadata": {},
   "outputs": [],
   "source": [
    "import pandas as pd\n",
    "import xlwings as xw\n",
    "\n",
    "filedir = '../pydata/august/'\n",
    "df_comb = pd.read_excel(filedir + 'combination_info1.xlsx',\n",
    "                        usecols=['组合商品编码', '组合商品名称'])\n",
    "df_comb.dropna(inplace=True)\n",
    "df_comb.set_index('组合商品编码', inplace=True)\n",
    "\n",
    "df_dest = pd.read_excel(filedir + 'combination_weight.xlsx', index_col=0)\n",
    "# append 2次 可以达到df_update = df_comb - df_dest的差集\n",
    "df_update = df_comb.append(df_dest).append(\n",
    "    df_dest).reset_index().drop_duplicates(subset=['组合商品编码'], keep=False)\n",
    "df_update.info()\n",
    "df_update\n"
   ]
  },
  {
   "cell_type": "markdown",
   "metadata": {},
   "source": []
  },
  {
   "cell_type": "markdown",
   "metadata": {},
   "source": []
  }
 ],
 "metadata": {
  "kernelspec": {
   "display_name": "Python 3.7.9 64-bit",
   "language": "python",
   "name": "python3"
  },
  "language_info": {
   "codemirror_mode": {
    "name": "ipython",
    "version": 3
   },
   "file_extension": ".py",
   "mimetype": "text/x-python",
   "name": "python",
   "nbconvert_exporter": "python",
   "pygments_lexer": "ipython3",
   "version": "3.7.9"
  },
  "vscode": {
   "interpreter": {
    "hash": "eb4cdb330c5ea7232880705c0e79ad22649a7c708042624124f8ff95c4dc218f"
   }
  }
 },
 "nbformat": 4,
 "nbformat_minor": 2
}
