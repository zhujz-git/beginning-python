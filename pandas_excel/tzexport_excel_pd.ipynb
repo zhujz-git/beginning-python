{
 "cells": [
  {
   "cell_type": "code",
   "execution_count": null,
   "metadata": {},
   "outputs": [],
   "source": [
    "import pandas as pd\n",
    "import xlwings as xw\n",
    "import re\n",
    "df_xl = pd.read_excel(\n",
    "    'C:\\\\Users\\\\Administrator\\\\Desktop\\\\excelExport20220919092950.xlsx',\n",
    "    index_col='使用单位',\n",
    "    na_values=' ',\n",
    "    keep_default_na=False)\n",
    "df_xl[['法人(负责人)电话', '安管人员电话', '安管人员手机']] = df_xl[['法人(负责人)电话', '安管人员电话', '安管人员手机']].astype(str)\n",
    "df_xl['联系方式'] = df_xl[['法人(负责人)电话', '安管人员电话', '安管人员手机']].apply('/'.join,\n",
    "                                                               axis=1)\n",
    "df_xl = df_xl[[\n",
    "    '设备地址',\n",
    "    '设备类别',\n",
    "    '单位内编号',\n",
    "    '出厂编号',\n",
    "    '使用状态',\n",
    "    '使用登记状态',\n",
    "    '设备型号',\n",
    "    '法人(负责人)',\n",
    "    '联系方式',\n",
    "]]\n",
    "\n",
    "df_xl['设备地址'] = df_xl['设备地址'].str.replace('浙江省温州市瓯海区|温州市瓯海区', '')\n",
    "df_xl = df_xl.sort_values(by=['设备类别', '使用状态'])\n",
    "\n",
    "xw.view(df_xl)\n"
   ]
  }
 ],
 "metadata": {
  "kernelspec": {
   "display_name": "Python 3.7.9 64-bit",
   "language": "python",
   "name": "python3"
  },
  "language_info": {
   "codemirror_mode": {
    "name": "ipython",
    "version": 3
   },
   "file_extension": ".py",
   "mimetype": "text/x-python",
   "name": "python",
   "nbconvert_exporter": "python",
   "pygments_lexer": "ipython3",
   "version": "3.7.9"
  },
  "orig_nbformat": 4,
  "vscode": {
   "interpreter": {
    "hash": "eb4cdb330c5ea7232880705c0e79ad22649a7c708042624124f8ff95c4dc218f"
   }
  }
 },
 "nbformat": 4,
 "nbformat_minor": 2
}
