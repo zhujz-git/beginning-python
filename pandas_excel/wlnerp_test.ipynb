{
 "cells": [
  {
   "cell_type": "code",
   "execution_count": null,
   "metadata": {},
   "outputs": [],
   "source": [
    "import requests\n",
    "import time\n",
    "\n",
    "timet = int(round(time.time() * 1000))\n",
    "url = 'https://erp-open.hupun.com/api/v1/'\n",
    "payload = {\n",
    "    '_app': \"5R5U6S7\",\n",
    "    '_sign': \"62CBC8F3A4553E529D309A337CBF995C\",\n",
    "    '_t': timet\n",
    "}\n",
    "r = requests.get(url, params=payload)\n"
   ]
  },
  {
   "cell_type": "code",
   "execution_count": null,
   "metadata": {},
   "outputs": [],
   "source": []
  }
 ],
 "metadata": {
  "kernelspec": {
   "display_name": "Python 3.7.9 64-bit",
   "language": "python",
   "name": "python3"
  },
  "language_info": {
   "name": "python",
   "version": "3.7.9"
  },
  "orig_nbformat": 4,
  "vscode": {
   "interpreter": {
    "hash": "eb4cdb330c5ea7232880705c0e79ad22649a7c708042624124f8ff95c4dc218f"
   }
  }
 },
 "nbformat": 4,
 "nbformat_minor": 2
}
