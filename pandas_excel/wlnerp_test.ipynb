{
 "cells": [
  {
   "cell_type": "code",
   "execution_count": 2,
   "metadata": {},
   "outputs": [],
   "source": [
    "import requests\n",
    "import time\n",
    "from datetime import datetime\n",
    "hd = {\n",
    "    'user-agent': 'application/x-www-form-urlencoded',\n",
    "    'charset': 'utf-8',\n",
    "}\n",
    "url = 'https://erp-open.hupun.com/api/v1/erp/base/shop/page/get'\n",
    "now = datetime.now()\n",
    "timestamp = timestamp = int(datetime.timestamp(now)*1000)\n",
    "payload = {\n",
    "    '_app': \"5R5U6S7\",\n",
    "    '_sign': \"62CBC8F3A4553E529D309A337CBF995C\",\n",
    "    '_t': timestamp,\n",
    "    'page': 1,\n",
    "    'limit': 10,\n",
    "}\n",
    "r = requests.get(url, params=payload, headers=hd)\n"
   ]
  },
  {
   "cell_type": "code",
   "execution_count": 5,
   "metadata": {},
   "outputs": [
    {
     "data": {
      "text/plain": [
       "'https://erp-open.hupun.com/api/v1/erp/base/shop/page/get?_app=5R5U6S7&_sign=62CBC8F3A4553E529D309A337CBF995C&_t=1663861744713&page=1&limit=10'"
      ]
     },
     "execution_count": 5,
     "metadata": {},
     "output_type": "execute_result"
    }
   ],
   "source": [
    "r.url \n"
   ]
  }
 ],
 "metadata": {
  "kernelspec": {
   "display_name": "Python 3.9.2 64-bit",
   "language": "python",
   "name": "python3"
  },
  "language_info": {
   "codemirror_mode": {
    "name": "ipython",
    "version": 3
   },
   "file_extension": ".py",
   "mimetype": "text/x-python",
   "name": "python",
   "nbconvert_exporter": "python",
   "pygments_lexer": "ipython3",
   "version": "3.9.2"
  },
  "orig_nbformat": 4,
  "vscode": {
   "interpreter": {
    "hash": "1eb71e714c2a1bbfc91d3a1ed02399b846367c62fca82a5b3a9325d7b60709de"
   }
  }
 },
 "nbformat": 4,
 "nbformat_minor": 2
}
