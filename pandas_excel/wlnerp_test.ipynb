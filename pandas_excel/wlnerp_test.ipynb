{
 "cells": [
  {
   "cell_type": "code",
   "execution_count": 2,
   "metadata": {},
   "outputs": [],
   "source": [
    "import requests\n",
    "from datetime import datetime\n",
    "import pandas as pd\n",
    "from  urllib.parse import urlencode\n",
    "from hashlib import md5\n",
    "\n",
    "doman = 'https://open-api.hupun.com/api'\n",
    "querypath = '/erp/goods/catagory/query'\n",
    "shoppath = '/erp/base/shop/page/get'\n",
    "now = datetime.now()\n",
    "timestamp = timestamp = int(datetime.timestamp(now)*1000)\n",
    "appsecret = 'ea5b29320cb3d15a9883c1fa4654bd02'\n",
    "#'shop_nick': '黄花中心店',\n",
    "param = {\n",
    "    '_app': \"3823532979\",\n",
    "    '_t': timestamp,\n",
    "    'page': 1,\n",
    "    'limit': 10,\n",
    "    '_s': '',  \n",
    "    'com_uid':'90230816691354',\n",
    "}\n",
    "paramli = [(i, param[i]) for i in sorted(param)]\n",
    "encodeparm = appsecret + urlencode(paramli) + appsecret\n",
    "sign = md5(encodeparm.encode('utf-8')).hexdigest()\n",
    "param['_sign'] = sign\n",
    "r = requests.post(doman + querypath, param)\n"
   ]
  },
  {
   "cell_type": "code",
   "execution_count": 5,
   "metadata": {},
   "outputs": [
    {
     "data": {
      "text/plain": [
       "'https://erp-open.hupun.com/api/v1/erp/base/shop/page/get?_app=5R5U6S7&_sign=62CBC8F3A4553E529D309A337CBF995C&_t=1663861744713&page=1&limit=10'"
      ]
     },
     "execution_count": 5,
     "metadata": {},
     "output_type": "execute_result"
    }
   ],
   "source": [
    "r.url \n"
   ]
  }
 ],
 "metadata": {
  "kernelspec": {
   "display_name": "Python 3.9.2 64-bit",
   "language": "python",
   "name": "python3"
  },
  "language_info": {
   "codemirror_mode": {
    "name": "ipython",
    "version": 3
   },
   "file_extension": ".py",
   "mimetype": "text/x-python",
   "name": "python",
   "nbconvert_exporter": "python",
   "pygments_lexer": "ipython3",
   "version": "3.9.2"
  },
  "orig_nbformat": 4,
  "vscode": {
   "interpreter": {
    "hash": "1eb71e714c2a1bbfc91d3a1ed02399b846367c62fca82a5b3a9325d7b60709de"
   }
  }
 },
 "nbformat": 4,
 "nbformat_minor": 2
}
