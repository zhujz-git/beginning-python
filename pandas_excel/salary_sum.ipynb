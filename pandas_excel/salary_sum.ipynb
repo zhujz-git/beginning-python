{
 "cells": [
  {
   "cell_type": "code",
   "execution_count": 10,
   "metadata": {},
   "outputs": [
    {
     "data": {
      "text/plain": [
       "150903.56999999998"
      ]
     },
     "execution_count": 10,
     "metadata": {},
     "output_type": "execute_result"
    }
   ],
   "source": [
    "import pandas as pd\n",
    "import xlwings as xw\n",
    "\n",
    "df_sa21 = pd.read_excel('F:\\\\财产相关\\\\工资\\\\信用社明细\\\\2021年.xls')\n",
    "df_sa21 = df_sa21[(df_sa21['交易渠道'] == '柜面') & (df_sa21['摘要'] != '水费')]\n",
    "df_sa21['收入'].sum()\n",
    "df_sa22 = pd.read_excel('F:\\\\财产相关\\\\工资\\\\信用社明细\\\\2022年.xls')\n",
    "df_sa22 = df_sa22[(df_sa22['交易渠道'] == '柜面') & (df_sa22['摘要'] != '水费')]\n",
    "df_sa22['收入'].sum()\n"
   ]
  }
 ],
 "metadata": {
  "kernelspec": {
   "display_name": "Python 3.7.9 64-bit",
   "language": "python",
   "name": "python3"
  },
  "language_info": {
   "codemirror_mode": {
    "name": "ipython",
    "version": 3
   },
   "file_extension": ".py",
   "mimetype": "text/x-python",
   "name": "python",
   "nbconvert_exporter": "python",
   "pygments_lexer": "ipython3",
   "version": "3.7.9"
  },
  "orig_nbformat": 4,
  "vscode": {
   "interpreter": {
    "hash": "eb4cdb330c5ea7232880705c0e79ad22649a7c708042624124f8ff95c4dc218f"
   }
  }
 },
 "nbformat": 4,
 "nbformat_minor": 2
}
